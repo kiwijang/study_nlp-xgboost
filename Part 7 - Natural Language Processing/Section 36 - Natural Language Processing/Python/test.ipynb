{
 "cells": [
  {
   "cell_type": "code",
   "execution_count": 2,
   "metadata": {},
   "outputs": [
    {
     "name": "stderr",
     "output_type": "stream",
     "text": [
      "[nltk_data] Downloading package stopwords to /home/kiwi/nltk_data...\n",
      "[nltk_data]   Package stopwords is already up-to-date!\n"
     ]
    },
    {
     "data": {
      "text/plain": [
       "0.8356789409420988"
      ]
     },
     "execution_count": 2,
     "metadata": {},
     "output_type": "execute_result"
    }
   ],
   "source": [
    "import numpy as np\n",
    "import pandas as pd\n",
    "import matplotlib.pyplot as plt\n",
    "import os\n",
    "import re\n",
    "import nltk\n",
    "from pathlib import Path\n",
    "\n",
    "#Load the data\n",
    "review = pd.read_csv('Restaurant_Reviews.tsv', sep='\\t')\n",
    "\n",
    "nltk.download('stopwords')\n",
    "\n",
    "from nltk.corpus import stopwords\n",
    "from nltk.stem.porter import PorterStemmer\n",
    "\n",
    "def clean_text(df_text_column, data):\n",
    "    corpus = []\n",
    "    for i in range(0, len(data)):\n",
    "        text = re.sub('[^a-zA-Z]', ' ', df_text_column[i])\n",
    "        text = text.lower()\n",
    "        text = text.split()\n",
    "        ps = PorterStemmer()\n",
    "        text = [ps.stem(word) for word in text if not word in set(stopwords.words('english'))]\n",
    "        text = ' '.join(text)\n",
    "        corpus.append(text)\n",
    "    return corpus\n",
    "\n",
    "X = pd.DataFrame({'Review':clean_text(review['Review'],review)})['Review']\n",
    "y = review['Liked']# Splitting the dataset into the Training set and Test set\n",
    "from sklearn.model_selection import train_test_split\n",
    "X_train, X_test, y_train, y_test = train_test_split(X, y, test_size = 0.25, random_state = 0)\n",
    "\n",
    "# Creating the pipeline\n",
    "from sklearn.feature_extraction.text import TfidfVectorizer\n",
    "vect = TfidfVectorizer()\n",
    "from sklearn.ensemble import RandomForestClassifier\n",
    "rf = RandomForestClassifier()\n",
    "from sklearn.pipeline import make_pipeline\n",
    "np.random.seed(0)\n",
    "rf_pipe = make_pipeline(vect, rf)\n",
    "rf_pipe.steps\n",
    "rf_pipe.fit(X_train, y_train)\n",
    "\n",
    "y_pred = rf_pipe.predict(X_test)\n",
    "y_prob = rf_pipe.predict_proba(X_test)\n",
    "\n",
    "from sklearn import metrics\n",
    "metrics.accuracy_score(y_test, y_pred) #Accuracy\n",
    "metrics.roc_auc_score(y_test, y_prob[:, 1]) #ROC-AUC score"
   ]
  },
  {
   "cell_type": "code",
   "execution_count": 12,
   "metadata": {},
   "outputs": [],
   "source": [
    "#　use Kernel SHAP to explain test set predictions\n",
    "import shap\n",
    "explainer = shap.TreeExplainer(rf)\n",
    "# shap_values = explainer.shap_values(X_test)"
   ]
  },
  {
   "cell_type": "code",
   "execution_count": 14,
   "metadata": {},
   "outputs": [
    {
     "name": "stdout",
     "output_type": "stream",
     "text": [
      "993                                      present food aw\n",
      "859                                    worst food servic\n",
      "298                                     never dine place\n",
      "553                        guess mayb went night disgrac\n",
      "672                         sushi lover avoid place mean\n",
      "                             ...                        \n",
      "462                                  im az time new spot\n",
      "356    sadli gordon ramsey steak place shall sharpli ...\n",
      "2                                     tasti textur nasti\n",
      "478                    group claim would handl us beauti\n",
      "695                               went lunch servic slow\n",
      "Name: Review, Length: 250, dtype: object\n"
     ]
    }
   ],
   "source": [
    "print(X_test)"
   ]
  },
  {
   "cell_type": "code",
   "execution_count": null,
   "metadata": {},
   "outputs": [],
   "source": []
  }
 ],
 "metadata": {
  "kernelspec": {
   "display_name": "Python 3",
   "language": "python",
   "name": "python3"
  },
  "language_info": {
   "codemirror_mode": {
    "name": "ipython",
    "version": 3
   },
   "file_extension": ".py",
   "mimetype": "text/x-python",
   "name": "python",
   "nbconvert_exporter": "python",
   "pygments_lexer": "ipython3",
   "version": "3.10.6"
  },
  "orig_nbformat": 4
 },
 "nbformat": 4,
 "nbformat_minor": 2
}
